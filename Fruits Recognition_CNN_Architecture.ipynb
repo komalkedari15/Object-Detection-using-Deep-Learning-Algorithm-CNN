{
 "cells": [
  {
   "cell_type": "code",
   "execution_count": 1,
   "id": "c9fec441",
   "metadata": {},
   "outputs": [],
   "source": [
    "from warnings import filterwarnings\n",
    "filterwarnings('ignore')"
   ]
  },
  {
   "cell_type": "code",
   "execution_count": 2,
   "id": "d3622c41",
   "metadata": {},
   "outputs": [],
   "source": [
    "import pandas as pd"
   ]
  },
  {
   "cell_type": "markdown",
   "id": "126da483",
   "metadata": {},
   "source": [
    "**Training And Testing Data Generator**"
   ]
  },
  {
   "cell_type": "code",
   "execution_count": 3,
   "id": "79074ee8",
   "metadata": {},
   "outputs": [],
   "source": [
    "from tensorflow.keras.preprocessing.image import ImageDataGenerator"
   ]
  },
  {
   "cell_type": "code",
   "execution_count": 4,
   "id": "af654046",
   "metadata": {},
   "outputs": [],
   "source": [
    "train_gen =ImageDataGenerator(rescale=1./255)"
   ]
  },
  {
   "cell_type": "code",
   "execution_count": 5,
   "id": "7538b3e6",
   "metadata": {},
   "outputs": [
    {
     "name": "stdout",
     "output_type": "stream",
     "text": [
      "Found 250 images belonging to 4 classes.\n"
     ]
    }
   ],
   "source": [
    "train_generator = train_gen.flow_from_directory('C:/Users/snket/OneDrive/Desktop/train_zip',\n",
    "                                                target_size=(300,300),batch_size=32,class_mode='categorical')"
   ]
  },
  {
   "cell_type": "code",
   "execution_count": 6,
   "id": "70c82906",
   "metadata": {},
   "outputs": [],
   "source": [
    "test_gen =ImageDataGenerator(rescale=1./255)"
   ]
  },
  {
   "cell_type": "code",
   "execution_count": 7,
   "id": "668f1a14",
   "metadata": {},
   "outputs": [
    {
     "name": "stdout",
     "output_type": "stream",
     "text": [
      "Found 60 images belonging to 4 classes.\n"
     ]
    }
   ],
   "source": [
    "test_generator = test_gen.flow_from_directory('C:/Users/snket/OneDrive/Desktop/test_zip',\n",
    "                                              target_size=(300,300),batch_size=32,class_mode='categorical')"
   ]
  },
  {
   "cell_type": "markdown",
   "id": "fb395caa",
   "metadata": {},
   "source": [
    "**Labeling**"
   ]
  },
  {
   "cell_type": "code",
   "execution_count": 8,
   "id": "91a9bb88",
   "metadata": {},
   "outputs": [
    {
     "data": {
      "text/plain": [
       "{0: 'apple', 1: 'banana', 2: 'mixed', 3: 'orange'}"
      ]
     },
     "execution_count": 8,
     "metadata": {},
     "output_type": "execute_result"
    }
   ],
   "source": [
    "labels_idx = (train_generator.class_indices)\n",
    "idx_labels = dict((v,k) for k,v in labels_idx.items())\n",
    "#Let's take a look how to map classes.\n",
    "idx_labels"
   ]
  },
  {
   "cell_type": "code",
   "execution_count": 9,
   "id": "8bbaf8d3",
   "metadata": {},
   "outputs": [
    {
     "name": "stdout",
     "output_type": "stream",
     "text": [
      "(32, 300, 300, 3) (32, 4)\n"
     ]
    }
   ],
   "source": [
    "images,labels=train_generator.next()\n",
    "print(images.shape,labels.shape)"
   ]
  },
  {
   "cell_type": "markdown",
   "id": "a41e61ae",
   "metadata": {},
   "source": [
    "**Building CNN Model**"
   ]
  },
  {
   "cell_type": "code",
   "execution_count": 57,
   "id": "994262c8",
   "metadata": {},
   "outputs": [],
   "source": [
    "from keras.layers import Dense,Conv2D,Flatten,MaxPool2D,Dropout\n",
    "from keras.models import Sequential"
   ]
  },
  {
   "cell_type": "code",
   "execution_count": 60,
   "id": "15a86d16",
   "metadata": {},
   "outputs": [],
   "source": [
    "model= Sequential()\n",
    "model.add(Conv2D(kernel_size=(3,3), filters=32, activation='tanh', input_shape=(300,300,3)))\n",
    "model.add(Conv2D(filters=30,kernel_size = (3,3),activation='tanh'))\n",
    "model.add(MaxPool2D(2,2))\n",
    "model.add(Conv2D(filters=30,kernel_size = (3,3),activation='tanh'))\n",
    "model.add(MaxPool2D(2,2))\n",
    "model.add(Conv2D(filters=30,kernel_size = (3,3),activation='tanh'))\n",
    "model.add(Flatten())\n",
    "model.add(Dense(20,activation='relu'))\n",
    "model.add(Dense(15,activation='relu'))\n",
    "model.add(Dense(4,activation = 'softmax'))\n",
    "    \n",
    "model.compile(\n",
    "              loss='categorical_crossentropy', \n",
    "              metrics=['acc'],\n",
    "              optimizer='adam'\n",
    "             )"
   ]
  },
  {
   "cell_type": "code",
   "execution_count": 12,
   "id": "aaab3368",
   "metadata": {},
   "outputs": [
    {
     "name": "stdout",
     "output_type": "stream",
     "text": [
      "Epoch 1/10\n",
      "8/8 [==============================] - 49s 6s/step - loss: 6.8272 - acc: 0.2760 - val_loss: 2.6270 - val_acc: 0.3000\n",
      "Epoch 2/10\n",
      "8/8 [==============================] - 42s 5s/step - loss: 3.1764 - acc: 0.2920 - val_loss: 3.5701 - val_acc: 0.4000\n",
      "Epoch 3/10\n",
      "8/8 [==============================] - 42s 5s/step - loss: 2.0830 - acc: 0.4160 - val_loss: 1.2475 - val_acc: 0.4167\n",
      "Epoch 4/10\n",
      "8/8 [==============================] - 42s 5s/step - loss: 1.4274 - acc: 0.4400 - val_loss: 1.2173 - val_acc: 0.4667\n",
      "Epoch 5/10\n",
      "8/8 [==============================] - 42s 5s/step - loss: 1.2542 - acc: 0.4360 - val_loss: 1.1342 - val_acc: 0.5000\n",
      "Epoch 6/10\n",
      "8/8 [==============================] - 42s 5s/step - loss: 1.0771 - acc: 0.5360 - val_loss: 1.0619 - val_acc: 0.5333\n",
      "Epoch 7/10\n",
      "8/8 [==============================] - 42s 5s/step - loss: 0.9598 - acc: 0.6160 - val_loss: 0.8760 - val_acc: 0.5833\n",
      "Epoch 8/10\n",
      "8/8 [==============================] - 42s 5s/step - loss: 0.8088 - acc: 0.6680 - val_loss: 0.9697 - val_acc: 0.6500\n",
      "Epoch 9/10\n",
      "8/8 [==============================] - 42s 5s/step - loss: 0.7459 - acc: 0.7280 - val_loss: 1.0506 - val_acc: 0.7833\n",
      "Epoch 10/10\n",
      "8/8 [==============================] - 42s 5s/step - loss: 0.6967 - acc: 0.7560 - val_loss: 1.2850 - val_acc: 0.7333\n"
     ]
    }
   ],
   "source": [
    "history = model.fit(train_generator,epochs=10,batch_size=50,validation_data=(test_generator))"
   ]
  },
  {
   "cell_type": "code",
   "execution_count": 13,
   "id": "10bf53c4",
   "metadata": {},
   "outputs": [
    {
     "name": "stdout",
     "output_type": "stream",
     "text": [
      "Epoch 1/30\n",
      "8/8 [==============================] - 47s 6s/step - loss: 0.6300 - acc: 0.7720 - val_loss: 1.4837 - val_acc: 0.7333\n",
      "Epoch 2/30\n",
      "8/8 [==============================] - 44s 5s/step - loss: 0.5631 - acc: 0.8080 - val_loss: 1.4334 - val_acc: 0.7667\n",
      "Epoch 3/30\n",
      "8/8 [==============================] - 42s 5s/step - loss: 0.5862 - acc: 0.8080 - val_loss: 1.6146 - val_acc: 0.7500\n",
      "Epoch 4/30\n",
      "8/8 [==============================] - 42s 5s/step - loss: 0.5280 - acc: 0.8080 - val_loss: 1.2692 - val_acc: 0.8000\n",
      "Epoch 5/30\n",
      "8/8 [==============================] - 42s 5s/step - loss: 0.4932 - acc: 0.8240 - val_loss: 1.0568 - val_acc: 0.8500\n",
      "Epoch 6/30\n",
      "8/8 [==============================] - 42s 5s/step - loss: 0.3733 - acc: 0.8520 - val_loss: 1.3407 - val_acc: 0.7667\n",
      "Epoch 7/30\n",
      "8/8 [==============================] - 42s 5s/step - loss: 0.4262 - acc: 0.8480 - val_loss: 1.2540 - val_acc: 0.8167\n",
      "Epoch 8/30\n",
      "8/8 [==============================] - 42s 5s/step - loss: 0.3446 - acc: 0.8720 - val_loss: 1.9104 - val_acc: 0.6667\n",
      "Epoch 9/30\n",
      "8/8 [==============================] - 42s 5s/step - loss: 0.3571 - acc: 0.8760 - val_loss: 0.7390 - val_acc: 0.8167\n",
      "Epoch 10/30\n",
      "8/8 [==============================] - 42s 5s/step - loss: 0.3536 - acc: 0.8840 - val_loss: 1.2151 - val_acc: 0.7667\n",
      "Epoch 11/30\n",
      "8/8 [==============================] - 42s 5s/step - loss: 0.3069 - acc: 0.8960 - val_loss: 1.3301 - val_acc: 0.8000\n",
      "Epoch 12/30\n",
      "8/8 [==============================] - 42s 5s/step - loss: 0.2897 - acc: 0.9000 - val_loss: 1.5341 - val_acc: 0.8000\n",
      "Epoch 13/30\n",
      "8/8 [==============================] - 43s 5s/step - loss: 0.3043 - acc: 0.9320 - val_loss: 1.4349 - val_acc: 0.8333\n",
      "Epoch 14/30\n",
      "8/8 [==============================] - 42s 5s/step - loss: 0.3262 - acc: 0.8960 - val_loss: 2.0839 - val_acc: 0.7167\n",
      "Epoch 15/30\n",
      "8/8 [==============================] - 43s 5s/step - loss: 0.2403 - acc: 0.9200 - val_loss: 1.6264 - val_acc: 0.8000\n",
      "Epoch 16/30\n",
      "8/8 [==============================] - 43s 5s/step - loss: 0.2613 - acc: 0.9160 - val_loss: 1.9050 - val_acc: 0.7500\n",
      "Epoch 17/30\n",
      "8/8 [==============================] - 42s 5s/step - loss: 0.2007 - acc: 0.9360 - val_loss: 1.8771 - val_acc: 0.7833\n",
      "Epoch 18/30\n",
      "8/8 [==============================] - 42s 5s/step - loss: 0.2145 - acc: 0.9280 - val_loss: 1.8025 - val_acc: 0.8333\n",
      "Epoch 19/30\n",
      "8/8 [==============================] - 42s 5s/step - loss: 0.1782 - acc: 0.9360 - val_loss: 1.8967 - val_acc: 0.8000\n",
      "Epoch 20/30\n",
      "8/8 [==============================] - 42s 5s/step - loss: 0.1797 - acc: 0.9360 - val_loss: 1.4384 - val_acc: 0.7833\n",
      "Epoch 21/30\n",
      "8/8 [==============================] - 42s 5s/step - loss: 0.1626 - acc: 0.9320 - val_loss: 1.3379 - val_acc: 0.7833\n",
      "Epoch 22/30\n",
      "8/8 [==============================] - 42s 5s/step - loss: 0.1442 - acc: 0.9480 - val_loss: 1.5974 - val_acc: 0.7500\n",
      "Epoch 23/30\n",
      "8/8 [==============================] - 42s 5s/step - loss: 0.1222 - acc: 0.9480 - val_loss: 1.4608 - val_acc: 0.8167\n",
      "Epoch 24/30\n",
      "8/8 [==============================] - 42s 5s/step - loss: 0.1506 - acc: 0.9440 - val_loss: 1.7867 - val_acc: 0.7833\n",
      "Epoch 25/30\n",
      "8/8 [==============================] - 42s 5s/step - loss: 0.1551 - acc: 0.9240 - val_loss: 1.5899 - val_acc: 0.7500\n",
      "Epoch 26/30\n",
      "8/8 [==============================] - 42s 5s/step - loss: 0.1354 - acc: 0.9480 - val_loss: 1.8738 - val_acc: 0.7500\n",
      "Epoch 27/30\n",
      "8/8 [==============================] - 42s 5s/step - loss: 0.1082 - acc: 0.9480 - val_loss: 1.9079 - val_acc: 0.7500\n",
      "Epoch 28/30\n",
      "8/8 [==============================] - 42s 5s/step - loss: 0.1481 - acc: 0.9400 - val_loss: 1.5815 - val_acc: 0.8167\n",
      "Epoch 29/30\n",
      "8/8 [==============================] - 42s 5s/step - loss: 0.1334 - acc: 0.9440 - val_loss: 1.6735 - val_acc: 0.8333\n",
      "Epoch 30/30\n",
      "8/8 [==============================] - 42s 5s/step - loss: 0.1196 - acc: 0.9440 - val_loss: 1.7738 - val_acc: 0.8167\n"
     ]
    }
   ],
   "source": [
    "history = model.fit(train_generator,epochs=30,batch_size=50,validation_data=(test_generator))"
   ]
  },
  {
   "cell_type": "code",
   "execution_count": 15,
   "id": "33748cfb",
   "metadata": {},
   "outputs": [
    {
     "name": "stdout",
     "output_type": "stream",
     "text": [
      "0.9440000057220459\n",
      "0.8166666626930237\n"
     ]
    }
   ],
   "source": [
    "print(history.history['acc'][-1])\n",
    "print(history.history['val_acc'][-1])"
   ]
  },
  {
   "cell_type": "markdown",
   "id": "57dcd44b",
   "metadata": {},
   "source": [
    "**Prediction**"
   ]
  },
  {
   "cell_type": "code",
   "execution_count": 46,
   "id": "35632351",
   "metadata": {},
   "outputs": [],
   "source": [
    "path = 'C:/Users/snket/OneDrive/Desktop/test_zip/apple/apple_80.jpg'"
   ]
  },
  {
   "cell_type": "code",
   "execution_count": 47,
   "id": "611e912d",
   "metadata": {},
   "outputs": [],
   "source": [
    "from tensorflow.keras.preprocessing import image\n",
    "import numpy as np\n",
    "\n",
    "# loads the image and resizes\n",
    "img = image.load_img(path, target_size=(300,300,3))\n",
    "x = image.img_to_array(img)\n",
    "x = np.expand_dims(x, axis=0)"
   ]
  },
  {
   "cell_type": "code",
   "execution_count": 48,
   "id": "a222999c",
   "metadata": {},
   "outputs": [
    {
     "data": {
      "image/png": "[encoded data removed]",
      "text/plain": [
       "<PIL.Image.Image image mode=RGB size=300x300 at 0x1325D183490>"
      ]
     },
     "execution_count": 48,
     "metadata": {},
     "output_type": "execute_result"
    }
   ],
   "source": [
    "img"
   ]
  },
  {
   "cell_type": "code",
   "execution_count": 49,
   "id": "5f877e24",
   "metadata": {},
   "outputs": [
    {
     "name": "stdout",
     "output_type": "stream",
     "text": [
      "1/1 [==============================] - 0s 48ms/step\n"
     ]
    }
   ],
   "source": [
    "final_pred = model.predict(x)"
   ]
  },
  {
   "cell_type": "code",
   "execution_count": 50,
   "id": "bea4c1db",
   "metadata": {},
   "outputs": [
    {
     "data": {
      "text/plain": [
       "array([[1.0000000e+00, 3.0615137e-12, 5.1338879e-17, 6.1521743e-10]],\n",
       "      dtype=float32)"
      ]
     },
     "execution_count": 50,
     "metadata": {},
     "output_type": "execute_result"
    }
   ],
   "source": [
    "final_pred "
   ]
  },
  {
   "cell_type": "code",
   "execution_count": 51,
   "id": "be358a48",
   "metadata": {},
   "outputs": [
    {
     "data": {
      "text/plain": [
       "array([0], dtype=int64)"
      ]
     },
     "execution_count": 51,
     "metadata": {},
     "output_type": "execute_result"
    }
   ],
   "source": [
    "pred_digits=np.argmax(final_pred,axis=1)\n",
    "pred_digits"
   ]
  },
  {
   "cell_type": "code",
   "execution_count": 52,
   "id": "0743a3ab",
   "metadata": {},
   "outputs": [],
   "source": [
    "#{0: 'apple', 1: 'banana', 2: 'mixed', 3: 'orange'}"
   ]
  },
  {
   "cell_type": "code",
   "execution_count": 61,
   "id": "24d5332d",
   "metadata": {},
   "outputs": [],
   "source": [
    "model= Sequential()\n",
    "model.add(Conv2D(kernel_size=(3,3), filters=32, activation='tanh', input_shape=(300,300,3)))\n",
    "model.add(Conv2D(filters=30,kernel_size = (3,3),activation='tanh'))\n",
    "model.add(MaxPool2D(2,2))\n",
    "model.add(Conv2D(filters=40,kernel_size = (3,3),activation='tanh'))\n",
    "model.add(MaxPool2D(2,2))\n",
    "model.add(Conv2D(filters=30,kernel_size = (3,3),activation='tanh'))\n",
    "model.add(Flatten())\n",
    "model.add(Dense(30,activation='relu'))\n",
    "model.add(Dense(25,activation='relu'))\n",
    "model.add(Dense(4,activation = 'softmax'))\n",
    "    \n",
    "model.compile(\n",
    "              loss='categorical_crossentropy', \n",
    "              metrics=['acc'],\n",
    "              optimizer='adam'\n",
    "             )"
   ]
  },
  {
   "cell_type": "code",
   "execution_count": 62,
   "id": "67790d46",
   "metadata": {},
   "outputs": [
    {
     "name": "stdout",
     "output_type": "stream",
     "text": [
      "Epoch 1/30\n",
      "8/8 [==============================] - 46s 6s/step - loss: 4.0162 - acc: 0.3160 - val_loss: 2.7016 - val_acc: 0.3333\n",
      "Epoch 2/30\n",
      "8/8 [==============================] - 44s 5s/step - loss: 1.4766 - acc: 0.4360 - val_loss: 1.6770 - val_acc: 0.4167\n",
      "Epoch 3/30\n",
      "8/8 [==============================] - 43s 5s/step - loss: 1.7653 - acc: 0.6040 - val_loss: 1.0189 - val_acc: 0.6167\n",
      "Epoch 4/30\n",
      "8/8 [==============================] - 43s 6s/step - loss: 1.2575 - acc: 0.6560 - val_loss: 1.8743 - val_acc: 0.5167\n",
      "Epoch 5/30\n",
      "8/8 [==============================] - 43s 5s/step - loss: 1.5133 - acc: 0.6160 - val_loss: 1.4120 - val_acc: 0.6833\n",
      "Epoch 6/30\n",
      "8/8 [==============================] - 45s 6s/step - loss: 1.0363 - acc: 0.7320 - val_loss: 1.1998 - val_acc: 0.6833\n",
      "Epoch 7/30\n",
      "8/8 [==============================] - 44s 6s/step - loss: 0.8266 - acc: 0.7360 - val_loss: 0.9973 - val_acc: 0.7167\n",
      "Epoch 8/30\n",
      "8/8 [==============================] - 43s 5s/step - loss: 0.7227 - acc: 0.8040 - val_loss: 0.7620 - val_acc: 0.8000\n",
      "Epoch 9/30\n",
      "8/8 [==============================] - 44s 6s/step - loss: 0.5459 - acc: 0.8400 - val_loss: 0.6772 - val_acc: 0.8000\n",
      "Epoch 10/30\n",
      "8/8 [==============================] - 44s 6s/step - loss: 0.5478 - acc: 0.7960 - val_loss: 0.7330 - val_acc: 0.7333\n",
      "Epoch 11/30\n",
      "8/8 [==============================] - 43s 5s/step - loss: 0.4363 - acc: 0.8560 - val_loss: 0.6274 - val_acc: 0.7167\n",
      "Epoch 12/30\n",
      "8/8 [==============================] - 44s 5s/step - loss: 0.3372 - acc: 0.8640 - val_loss: 0.8077 - val_acc: 0.7833\n",
      "Epoch 13/30\n",
      "8/8 [==============================] - 44s 5s/step - loss: 0.2888 - acc: 0.9040 - val_loss: 0.6511 - val_acc: 0.8000\n",
      "Epoch 14/30\n",
      "8/8 [==============================] - 43s 6s/step - loss: 0.2407 - acc: 0.9160 - val_loss: 0.7246 - val_acc: 0.7667\n",
      "Epoch 15/30\n",
      "8/8 [==============================] - 43s 5s/step - loss: 0.2257 - acc: 0.9240 - val_loss: 0.6975 - val_acc: 0.8500\n",
      "Epoch 16/30\n",
      "8/8 [==============================] - 44s 5s/step - loss: 0.2294 - acc: 0.9200 - val_loss: 0.5889 - val_acc: 0.8333\n",
      "Epoch 17/30\n",
      "8/8 [==============================] - 43s 5s/step - loss: 0.2015 - acc: 0.9160 - val_loss: 0.7526 - val_acc: 0.8667\n",
      "Epoch 18/30\n",
      "8/8 [==============================] - 44s 5s/step - loss: 0.1644 - acc: 0.9320 - val_loss: 0.7460 - val_acc: 0.8333\n",
      "Epoch 19/30\n",
      "8/8 [==============================] - 43s 5s/step - loss: 0.1400 - acc: 0.9480 - val_loss: 0.7354 - val_acc: 0.8167\n",
      "Epoch 20/30\n",
      "8/8 [==============================] - 43s 5s/step - loss: 0.2093 - acc: 0.9280 - val_loss: 0.7416 - val_acc: 0.8167\n",
      "Epoch 21/30\n",
      "8/8 [==============================] - 43s 6s/step - loss: 0.1380 - acc: 0.9360 - val_loss: 0.7726 - val_acc: 0.8667\n",
      "Epoch 22/30\n",
      "8/8 [==============================] - 43s 5s/step - loss: 0.1456 - acc: 0.9360 - val_loss: 0.7537 - val_acc: 0.8333\n",
      "Epoch 23/30\n",
      "8/8 [==============================] - 43s 6s/step - loss: 0.1369 - acc: 0.9400 - val_loss: 0.8037 - val_acc: 0.8167\n",
      "Epoch 24/30\n",
      "8/8 [==============================] - 44s 5s/step - loss: 0.1769 - acc: 0.9440 - val_loss: 0.7363 - val_acc: 0.8167\n",
      "Epoch 25/30\n",
      "8/8 [==============================] - 43s 5s/step - loss: 0.1513 - acc: 0.9480 - val_loss: 0.8751 - val_acc: 0.8500\n",
      "Epoch 26/30\n",
      "8/8 [==============================] - 43s 5s/step - loss: 0.1173 - acc: 0.9520 - val_loss: 0.7918 - val_acc: 0.8000\n",
      "Epoch 27/30\n",
      "8/8 [==============================] - 43s 6s/step - loss: 0.1168 - acc: 0.9520 - val_loss: 0.7579 - val_acc: 0.8167\n",
      "Epoch 28/30\n",
      "8/8 [==============================] - 44s 5s/step - loss: 0.1082 - acc: 0.9520 - val_loss: 0.9128 - val_acc: 0.7833\n",
      "Epoch 29/30\n",
      "8/8 [==============================] - 44s 5s/step - loss: 0.1059 - acc: 0.9560 - val_loss: 0.7806 - val_acc: 0.8167\n",
      "Epoch 30/30\n",
      "8/8 [==============================] - 44s 5s/step - loss: 0.1192 - acc: 0.9560 - val_loss: 0.9040 - val_acc: 0.8000\n"
     ]
    }
   ],
   "source": [
    "history = model.fit(train_generator,epochs=30,batch_size=50,validation_data=(test_generator))"
   ]
  },
  {
   "cell_type": "code",
   "execution_count": null,
   "id": "fb681f0b",
   "metadata": {},
   "outputs": [],
   "source": []
  }
 ],
 "metadata": {
  "kernelspec": {
   "display_name": "Python 3",
   "language": "python",
   "name": "python3"
  },
  "language_info": {
   "codemirror_mode": {
    "name": "ipython",
    "version": 3
   },
   "file_extension": ".py",
   "mimetype": "text/x-python",
   "name": "python",
   "nbconvert_exporter": "python",
   "pygments_lexer": "ipython3",
   "version": "3.8.8"
  }
 },
 "nbformat": 4,
 "nbformat_minor": 5
}
